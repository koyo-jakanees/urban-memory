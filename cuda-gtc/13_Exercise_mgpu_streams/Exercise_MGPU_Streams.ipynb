{
 "cells": [
  {
   "cell_type": "markdown",
   "metadata": {},
   "source": [
    "<h1 style=\"color:#65AE11;\">Exercise: Copy Compute Overlap with Multiple GPUs</h1>"
   ]
  },
  {
   "cell_type": "markdown",
   "metadata": {},
   "source": [
    "In this section you will refactor the baseline cipher application to perform copy/compute overlap while utilizing multiple GPUs."
   ]
  },
  {
   "cell_type": "markdown",
   "metadata": {},
   "source": [
    "<h2 style=\"color:#65AE11;\">Objectives</h2>"
   ]
  },
  {
   "cell_type": "markdown",
   "metadata": {},
   "source": [
    "By the time you complete this section you will:\n",
    "\n",
    "* Be able to perform copy/compute overlap on multiple GPUs\n",
    "* Observe copy/compute overlap on multiple GPUs in the Nsight Systems timeline"
   ]
  },
  {
   "cell_type": "markdown",
   "metadata": {},
   "source": [
    "<h2 style=\"color:#65AE11;\">Exercise Instructions</h2>"
   ]
  },
  {
   "cell_type": "markdown",
   "metadata": {},
   "source": [
    "Apply the techniques from the previous section to perform copy/compute overlap on multiple GPUs in [mgpu_stream.cu](mgpu_stream_cipher/mgpu_stream.cu).\n",
    "\n",
    "Use the terminal to run `make mgpu_stream` to compile the program, and then `./mgpu_stream` to run it. You will see the timing outputs and check for correctness. See the [Makefile](mgpu_stream_cipher/Makefile) for details.\n",
    "\n",
    "**As a goal try to get the total amount of time on the GPUs (including memory transfers) below 30ms.**\n",
    "\n",
    "Use the terminal to run `make profile` to generate a report file that will be named `mgpu-stream-report.qdrep`, and which you can open in Nsight Systems. See the [Makefile](mgpu_stream_cipher/Makefile) for details.\n",
    "\n",
    "The following screenshot shows the application performing copy/compute overlap with multiple GPUs:"
   ]
  },
  {
   "cell_type": "markdown",
   "metadata": {},
   "source": [
    "![multiple gpu copy/compute](images/mgpu_copy_compute.png)"
   ]
  },
  {
   "cell_type": "markdown",
   "metadata": {},
   "source": [
    "<h2 style=\"color:#65AE11;\">Exercise Hints</h2>"
   ]
  },
  {
   "cell_type": "markdown",
   "metadata": {},
   "source": [
    "If you would like, expand the following hints to guide your work:"
   ]
  },
  {
   "cell_type": "markdown",
   "metadata": {
    "jupyter": {
     "source_hidden": true
    }
   },
   "source": [
    "* All your work should be within the `main` function\n",
    "* As you work, edit the use of the timer instances, including their message strings, to reflect changes you make to the application\n",
    "* Create variables to define each GPU's chunk of data, and, each stream on each GPU's chunk of data\n",
    "* Create and store all streams in a 2D array, with each row containing one GPU's streams\n",
    "* Store pointers for each GPU's memory in an array\n",
    "* Using robust indexing techniques, allocate a GPU's chunk of data for each GPU\n",
    "* For each stream, on each GPU, perform async HtoD transfer, kernel launch, and async DtoH transfer, synchronizing streams as needed\n",
    "* `make clean` will delete all binaries and report files\n",
    "* You can edit the [*Makefile*](mgpu_cipher/Makefile) as you wish, for example, to change the name of generated binaries or report files. You can of course also enter the commands found in the *Makefile* directly into the terminal"
   ]
  },
  {
   "cell_type": "markdown",
   "metadata": {},
   "source": [
    "<h2 style=\"color:#65AE11;\">Exercise Solution</h2>"
   ]
  },
  {
   "cell_type": "markdown",
   "metadata": {},
   "source": [
    "After you complete your work, or if you get stuck, refer to [the solution](mgpu_stream_cipher/mgpu_stream_solution.cu). If you wish, you can compile the solution with `make mgpu_stream_solution`, and/or generate a report file for viewing in Nsight Systems with `make profile_solution`."
   ]
  },
  {
   "cell_type": "markdown",
   "metadata": {},
   "source": [
    "<h2 style=\"color:#65AE11;\">Next</h2>"
   ]
  },
  {
   "cell_type": "markdown",
   "metadata": {},
   "source": [
    "Congratulations on the successful refactor and acceleration of the cipher application. Next, you will do a quick overview of everything you learned in this workshop, and will be asked to take the course survey before attempting the workshop assessment.\n",
    "\n",
    "Please continue to the next section: [*Workshop Overview*](../14_Overview/Overview.ipynb)."
   ]
  }
 ],
 "metadata": {
  "kernelspec": {
   "display_name": "Python 3",
   "language": "python",
   "name": "python3"
  },
  "language_info": {
   "codemirror_mode": {
    "name": "ipython",
    "version": 3
   },
   "file_extension": ".py",
   "mimetype": "text/x-python",
   "name": "python",
   "nbconvert_exporter": "python",
   "pygments_lexer": "ipython3",
   "version": "3.8.3"
  }
 },
 "nbformat": 4,
 "nbformat_minor": 4
}
