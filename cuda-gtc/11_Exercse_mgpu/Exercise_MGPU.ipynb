{
 "cells": [
  {
   "cell_type": "markdown",
   "metadata": {},
   "source": [
    "<h1 style=\"color:#65AE11;\">Exercise: Use Multiple GPUs</h1>"
   ]
  },
  {
   "cell_type": "markdown",
   "metadata": {},
   "source": [
    "In this section you will refactor the baseline cipher application to utilize multiple GPUs.\n",
    "\n",
    "*Please note, you will be working with the baseline cipher application that **does not use multiple non-default streams**. For the sake of learning you will be focusing on multiple GPU usage in this section, before combining multiple GPUs with multiple non-default streams in the next section.*"
   ]
  },
  {
   "cell_type": "markdown",
   "metadata": {},
   "source": [
    "<h2 style=\"color:#65AE11;\">Objectives</h2>"
   ]
  },
  {
   "cell_type": "markdown",
   "metadata": {},
   "source": [
    "By the time you complete this section you will:\n",
    "\n",
    "* Be able to utilize multiple GPUs in a CUDA C++ application\n",
    "* Observe multiple GPU usage in the Nsight Systems timeline"
   ]
  },
  {
   "cell_type": "markdown",
   "metadata": {},
   "source": [
    "<h2 style=\"color:#65AE11;\">Exercise Instructions</h2>"
   ]
  },
  {
   "cell_type": "markdown",
   "metadata": {},
   "source": [
    "Apply the techniques from the previous section to utilize multiple GPUs in [mgpu.cu](mgpu_cipher/mgpu.cu).\n",
    "\n",
    "Use the terminal to run `make mgpu` to compile the program, and then `./mgpu` to run it. You will see the timing outputs and check for correctness. See the [Makefile](mgpu_cipher/Makefile) for details.\n",
    "\n",
    "**As a goal try to get the amount of time spent decrypting on the GPUs (not including memory transfers) below 20ms.**\n",
    "\n",
    "Use the terminal to run `make profile` to generate a report file that will be named `mgpu-report.qdrep`, and which you can open in Nsight Systems. See the [Makefile](mgpu_cipher/Makefile) for details.\n",
    "\n",
    "The following screenshot shows the application utilizing multiple GPUs:"
   ]
  },
  {
   "cell_type": "markdown",
   "metadata": {},
   "source": [
    "![multiple gpus](images/multiple_gpus.png)"
   ]
  },
  {
   "cell_type": "markdown",
   "metadata": {},
   "source": [
    "<h2 style=\"color:#65AE11;\">Exercise Hints</h2>"
   ]
  },
  {
   "cell_type": "markdown",
   "metadata": {},
   "source": [
    "If you would like, expand the following hints to guide your work:"
   ]
  },
  {
   "cell_type": "markdown",
   "metadata": {},
   "source": [
    "* All your work should be within the `main` function\n",
    "* Store the number of GPUs available in a variable for later use\n",
    "* Using the number of entries and the number of GPUs, define a chunk size for each stream's work. Remember to use the round-up division helper function `sdiv` for the reasons discussed in a previous section\n",
    "* Create an array that contains pointers for the memory that will be allocated on each GPU\n",
    "* Allocate a chunk's worth of data for each GPU\n",
    "* Copy the correct chunk of data to each GPU\n",
    "* For each GPU, decrypt its chunk of data\n",
    "* Copy each GPU's chunk of data back to the host\n",
    "* You may wish to edit the use of the timer instances, including their message strings, to reflect changes you make to the application\n",
    "* `make clean` will delete all binaries and report files\n",
    "* You can edit the [*Makefile*](mgpu_cipher/Makefile) as you wish, for example, to change the name of generated binaries or report files. You can of course also enter the commands found in the *Makefile* directly into the terminal"
   ]
  },
  {
   "cell_type": "markdown",
   "metadata": {},
   "source": [
    "<h2 style=\"color:#65AE11;\">Exercise Solution</h2>"
   ]
  },
  {
   "cell_type": "markdown",
   "metadata": {},
   "source": [
    "After you complete your work, or if you get stuck, refer to [the solution](mgpu_cipher/mgpu_solution.cu). If you wish, you can compile the solution with `make mgpu_solution`, and/or generate a report file for viewing in Nsight Systems with `make profile_solution`."
   ]
  },
  {
   "cell_type": "markdown",
   "metadata": {},
   "source": [
    "<h2 style=\"color:#65AE11;\">Check for Understanding</h2>"
   ]
  },
  {
   "cell_type": "markdown",
   "metadata": {},
   "source": [
    "Please answer the following to confirm you've learned the main objectives of this section. You can display the answers for each question by clicking on the \"...\" cells below the questions."
   ]
  },
  {
   "cell_type": "markdown",
   "metadata": {},
   "source": [
    "---"
   ]
  },
  {
   "cell_type": "markdown",
   "metadata": {},
   "source": [
    "**In the visual profiler, we can see that overlapping kernel execution. Why is this so?**"
   ]
  },
  {
   "cell_type": "markdown",
   "metadata": {
    "jupyter": {
     "source_hidden": true
    }
   },
   "source": [
    "**Answer:**\n",
    "\n",
    "We are using multiple GPUs to execute chunks of the work required by our application, all of which can perform work at the same time."
   ]
  },
  {
   "cell_type": "markdown",
   "metadata": {},
   "source": [
    "---"
   ]
  },
  {
   "cell_type": "markdown",
   "metadata": {},
   "source": [
    "**In the visual profiler image of the solution code, above, we can see that there is no overlap of memory transfers. Why is this so?**"
   ]
  },
  {
   "cell_type": "markdown",
   "metadata": {
    "jupyter": {
     "source_hidden": true
    }
   },
   "source": [
    "**Answer:**\n",
    "\n",
    "The solution code is using neither non-default streams, nor, `cudaMemcpyAsync` for memory copies. They are, therefore, blocking operations."
   ]
  },
  {
   "cell_type": "markdown",
   "metadata": {},
   "source": [
    "---"
   ]
  },
  {
   "cell_type": "markdown",
   "metadata": {},
   "source": [
    "<h2 style=\"color:#65AE11;\">Next</h2>"
   ]
  },
  {
   "cell_type": "markdown",
   "metadata": {},
   "source": [
    "You now know how to perform copy/compute overlap, and, how to perform work on multiple GPUs. In the next section you will learn about streams on multiple GPUs, and how to perform copy/compute overlap on multiple GPUs.\n",
    "\n",
    "Please continue to the next section: [*MGPU Streams*](../12_MGPU_Streams/MGPU_Streams.ipynb)."
   ]
  }
 ],
 "metadata": {
  "kernelspec": {
   "display_name": "Python 3",
   "language": "python",
   "name": "python3"
  },
  "language_info": {
   "codemirror_mode": {
    "name": "ipython",
    "version": 3
   },
   "file_extension": ".py",
   "mimetype": "text/x-python",
   "name": "python",
   "nbconvert_exporter": "python",
   "pygments_lexer": "ipython3",
   "version": "3.8.3"
  }
 },
 "nbformat": 4,
 "nbformat_minor": 4
}
